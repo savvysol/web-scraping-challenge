{
 "cells": [
  {
   "cell_type": "code",
   "execution_count": 53,
   "metadata": {},
   "outputs": [],
   "source": [
    "from splinter import Browser\n",
    "from bs4 import BeautifulSoup\n",
    "import time"
   ]
  },
  {
   "cell_type": "code",
   "execution_count": 108,
   "metadata": {},
   "outputs": [
    {
     "name": "stdout",
     "output_type": "stream",
     "text": [
      "/usr/local/bin/chromedriver\r\n"
     ]
    }
   ],
   "source": [
    "# https://splinter.readthedocs.io/en/latest/drivers/chrome.html\n",
    "!which chromedriver\n",
    "executable_path = {'executable_path': '/usr/local/bin/chromedriver'}\n",
    "browser = Browser('chrome', **executable_path, headless=False)\n"
   ]
  },
  {
   "cell_type": "code",
   "execution_count": 109,
   "metadata": {},
   "outputs": [],
   "source": [
    "# setting the brower path\n",
    "executable_path = {'executable_path': '/usr/local/bin/chromedriver'}\n",
    "browser = Browser('chrome', **executable_path, headless=False)"
   ]
  },
  {
   "cell_type": "code",
   "execution_count": 110,
   "metadata": {},
   "outputs": [],
   "source": [
    "def launch(url):\n",
    "    executable_path = {'executable_path': '/usr/local/bin/chromedriver'}\n",
    "    browser = Browser('chrome', **executable_path, headless=False)\n",
    "    browser.visit(url)"
   ]
  },
  {
   "cell_type": "code",
   "execution_count": 107,
   "metadata": {},
   "outputs": [],
   "source": []
  },
  {
   "cell_type": "code",
   "execution_count": 80,
   "metadata": {},
   "outputs": [],
   "source": [
    "# Create a function that opens a browser and grabs the soup\n",
    "\n",
    "def scrape_url(url):\n",
    "    # Set the Chrome Path and Launch the Browser\n",
    "    executable_path = {'executable_path': '/usr/local/bin/chromedriver'}\n",
    "    browser = Browser('chrome', **executable_path, headless=False)\n",
    "    \n",
    "    # Pass in a a URL to visit\n",
    "    browser.visit(url)\n",
    "    \n",
    "    #give it a moment to load\n",
    "    time.sleep(4)\n",
    "    \n",
    "    # Grab the HTML & Soup it!\n",
    "    html = browser.html\n",
    "    soup = BeautifulSoup(html, 'html.parser')\n",
    "    \n",
    "    browser.quit()\n",
    "    \n",
    "    return soup\n",
    "    \n",
    "    \n",
    "    "
   ]
  },
  {
   "cell_type": "code",
   "execution_count": 81,
   "metadata": {},
   "outputs": [],
   "source": [
    "# URLs to Scrape\n",
    "news_url = 'https://mars.nasa.gov/news'\n",
    "mars_image_url = 'https://www.jpl.nasa.gov/spaceimages/?search=&category=Mars'\n",
    "mars_weather_url = 'https://twitter.com/marswxreport?lang=en'\n",
    "mars_facts_url = 'https://space-facts.com/mars/'\n",
    "mars_hemi_url = 'https://astrogeology.usgs.gov/search/results?q=hemisphere+enhanced&k1=target&v1=Mars'\n"
   ]
  },
  {
   "cell_type": "code",
   "execution_count": 118,
   "metadata": {},
   "outputs": [],
   "source": [
    "\n",
    "def get_news(news_url):\n",
    "    \n",
    "    # scrape the new url\n",
    "    news_soup = scrape_url(news_url)\n",
    "    \n",
    "    # Get the News Slides from the Soup & Set up a Dictionary\n",
    "    slides = news_soup.find_all('li',class_='slide')\n",
    "    mars_news = []\n",
    "    mars_dict = {}\n",
    "\n",
    "    # Loop Through the Slides and Grap the Title and Teaser\n",
    "    for x in range(len(slides)):\n",
    "        title = slides[x].find('div', class_=\"content_title\").text.replace(\"/n\",\"\")\n",
    "        teaser = slides[x].find('div', class_=\"article_teaser_body\").text.replace(\"/n\",\"\")\n",
    "\n",
    "        # Add key, value pairs to dictionary\n",
    "        post = {\n",
    "            \"title\":title,\n",
    "            \"teaser\":teaser,\n",
    "        }\n",
    "\n",
    "        #Get the list of dictionaries\n",
    "        mars_news.append(post)\n",
    "\n",
    "    return mars_news\n",
    "    "
   ]
  },
  {
   "cell_type": "code",
   "execution_count": 119,
   "metadata": {},
   "outputs": [
    {
     "data": {
      "text/plain": [
       "[{'title': \"NASA's Curiosity Rover Finds an Ancient Oasis on Mars\",\n",
       "  'teaser': \"New evidence suggests salty, shallow ponds once dotted a Martian crater — a sign of the planet's drying climate.\"},\n",
       " {'title': \"NASA's Mars 2020 Rover Tests Descent-Stage Separation\",\n",
       "  'teaser': \"A crane lifts the rocket-powered descent stage away from NASA's Mars 2020 rover after technicians tested the pyrotechnic charges that separate the two spacecraft.\"},\n",
       " {'title': \"NASA's Push to Save the Mars InSight Lander's Heat Probe\",\n",
       "  'teaser': \"The scoop on the end of the spacecraft's robotic arm will be used to 'pin' the mole against the wall of its hole.\"},\n",
       " {'title': \"NASA's InSight 'Hears' Peculiar Sounds on Mars\",\n",
       "  'teaser': 'Listen to the marsquakes and other, less-expected sounds that the Mars lander has been detecting.'},\n",
       " {'title': 'NASA Mars Mission Connects With Bosnian and Herzegovinian Town',\n",
       "  'teaser': 'A letter from NASA was presented to the mayor of Jezero, Bosnia-Herzegovina, honoring the connection between the town and Jezero Crater, the Mars 2020 rover landing site.'},\n",
       " {'title': \"Deadline Closing for Names to Fly on NASA's Next Mars Rover\",\n",
       "  'teaser': 'You have until Sept. 30 to send your names to Mars aboard the Mars 2020 rover. '},\n",
       " {'title': 'NASA Wins Two Emmy Awards for Interactive Mission Coverage',\n",
       "  'teaser': \"NASA-JPL's coverage of the Mars InSight landing earns one of the two wins, making this the NASA center's second Emmy.\"},\n",
       " {'title': \"NASA's Mars 2020 Comes Full Circle\",\n",
       "  'teaser': \"Aiming to pinpoint the Martian vehicle's center of gravity, engineers took NASA's 2,300-pound Mars 2020 rover for a spin in the clean room at JPL. \"},\n",
       " {'title': 'NASA Invites Students to Name Mars 2020 Rover',\n",
       "  'teaser': \"Through Nov. 1, K-12 students in the U.S. are encouraged to enter an essay contest to name NASA's next Mars rover.\"},\n",
       " {'title': \"NASA's Mars Helicopter Attached to Mars 2020 Rover \",\n",
       "  'teaser': 'The helicopter will be first aircraft to perform flight tests on another planet.'},\n",
       " {'title': \"What's Mars Solar Conjunction, and Why Does It Matter?\",\n",
       "  'teaser': 'NASA spacecraft at Mars are going to be on their own for a few weeks when the Sun comes between Mars and Earth, interrupting communications.'},\n",
       " {'title': 'Scientists Explore Outback as Testbed for Mars ',\n",
       "  'teaser': \"Australia provides a great place for NASA's Mars 2020 and the ESA-Roscosmos ExoMars scientists to hone techniques in preparation for searching for signs ancient life on Mars.\"},\n",
       " {'title': \"NASA-JPL Names 'Rolling Stones Rock' on Mars\",\n",
       "  'teaser': \"NASA's Mars InSight mission honored one of the biggest bands of all time at Pasadena concert.\"},\n",
       " {'title': \"Robotic Toolkit Added to NASA's Mars 2020 Rover\",\n",
       "  'teaser': \"The bit carousel, which lies at the heart of the rover's Sample Caching System, is now aboard NASA's newest rover. \"},\n",
       " {'title': \"Space Samples Link NASA's Apollo 11 and Mars 2020\",\n",
       "  'teaser': \"While separated by half a century, NASA's Apollo 11 and Mars 2020 missions share the same historic goal: returning samples to Earth.\"},\n",
       " {'title': 'Small Satellite Mission of the Year',\n",
       "  'teaser': 'The first interplanetary CubeSats were recognized by the engineering community with the 2019 Small Satellite Mission of the Year award.'},\n",
       " {'title': \"NASA 'Optometrists' Verify Mars 2020 Rover's 20/20 Vision\",\n",
       "  'teaser': 'Mars 2020 rover underwent an eye exam after several cameras were installed on the rover.'},\n",
       " {'title': 'New Finds for Mars Rover, Seven Years After Landing',\n",
       "  'teaser': 'NASA\\'s Curiosity rover is discovering odd rocks halfway into a region called the \"clay-bearing unit.\"'},\n",
       " {'title': 'MEDLI2 Installation on Mars 2020 Aeroshell Begins',\n",
       "  'teaser': \"Hardware installed onto NASA's Mars 2020 entry vehicle this week will help to increase the safety of future Mars landings.\"},\n",
       " {'title': \"NASA's Mars 2020 Rover Does Biceps Curls \",\n",
       "  'teaser': \"In this time-lapse video, the robotic arm on NASA's Mars 2020 rover maneuvers its 88-pound (40-kilogram) sensor-laden turret as it moves from a deployed to stowed configuration.\"},\n",
       " {'title': \"Fueling of NASA's Mars 2020 Rover Power System Begins\",\n",
       "  'teaser': \"NASA gives the go-ahead to fuel the Mars 2020 rover's Multi-Mission Radioisotope Thermoelectric Generator, which will power rover and help keep it warm while exploring Mars.\"},\n",
       " {'title': 'What Does a Marsquake Look Like?',\n",
       "  'teaser': 'InSight scientists used a special \"shake room\" to demonstrate the differences between quakes on Earth, the Moon and Mars.'},\n",
       " {'title': 'Mars 2020 Rover: T-Minus One Year and Counting ',\n",
       "  'teaser': \"The launch period for NASA's next rover, Mars 2020, opens exactly one year from today, July 17, 2020, and extends through Aug. 5, 2020.\"},\n",
       " {'title': 'NASA Racks Up Two Emmy Nominations for Mission Coverage',\n",
       "  'teaser': \"JPL's coverage of the Mars InSight mission is among the efforts that will be up for an award in mid-September.\"},\n",
       " {'title': 'Want to Colonize Mars? Aerogel Could Help',\n",
       "  'teaser': 'Researchers are studying whether a wonder material used in Mars rovers could help warm parts of the Red Planet rich in water ice.'},\n",
       " {'title': 'A Rover Pit Stop at JPL',\n",
       "  'teaser': \"Working like a finely honed machine, a team of engineers in this time-lapse video clip install test wheels on another finely honed machine: NASA's Mars 2020 rover.\"},\n",
       " {'title': 'Mars 2020 Rover Gets a Super Instrument',\n",
       "  'teaser': 'With its rock-zapping laser, the SuperCam will enable the science team to identify the chemical and mineral makeup of its targets on the Red Planet.'},\n",
       " {'title': 'A Neil Armstrong for Mars: Landing the Mars 2020 Rover',\n",
       "  'teaser': \"NASA's newest rover will have an autopilot called Terrain-Relative Navigation.\"},\n",
       " {'title': \"NASA's InSight Uncovers the 'Mole' \",\n",
       "  'teaser': \"The lander's robotic arm has successfully removed a piece of hardware blocking the view of its digging device in order to help with recovery efforts.\"},\n",
       " {'title': \"Mars 2020 Rover's 7-Foot-Long Robotic Arm Installed\",\n",
       "  'teaser': \"The main robotic arm has been installed on NASA's newest rover. When complete, the arm will enable the rover to hold and use science tools like a human geologist would.\"},\n",
       " {'title': \"NASA Selects Partners for Mars 2020 'Name the Rover' Contest, Seeks Judges\",\n",
       "  'teaser': 'The contest for U.S. schoolchildren will open in fall 2019, but judges can sign up now.'},\n",
       " {'title': \"Curiosity's Mars Methane Mystery Continues\",\n",
       "  'teaser': 'The Curiosity rover’s follow-on sampling shows last week’s methane levels have sharply decreased.'},\n",
       " {'title': 'Mars 2020 Rover Gets Its Wheels',\n",
       "  'teaser': \"With the mobility suspension in place, the rover not only looks more like a rover but has many of its 'big-ticket items' installed.\"},\n",
       " {'title': \"The Mast Is Raised for NASA's Mars 2020 Rover\",\n",
       "  'teaser': 'Engineers at JPL take a group selfie after attaching the remote sensing mast to the Mars 2020 rover.'},\n",
       " {'title': \"NASA's Mars 2020 Will Blaze a Trail — for Humans\",\n",
       "  'teaser': 'The next robotic Mars mission will carry technology that will help enable astronauts to eventually explore the Red Planet.'},\n",
       " {'title': 'Johnson-Built Device to Help Mars 2020 Rover Search for Signs of Life',\n",
       "  'teaser': 'NASA’s Johnson Space Center (JSC) recently built a new calibration device for the rover to check SHERLOC’s function and properly tune it during the upcoming mission.'},\n",
       " {'title': 'Watch NASA Build Its Next Mars Rover',\n",
       "  'teaser': \"A newly installed webcam offers the public a live, bird's-eye view of NASA's Mars 2020 rover as it takes shape at NASA's Jet Propulsion Laboratory. \"},\n",
       " {'title': \"NASA's Mars Helicopter Testing Enters Final Phase\",\n",
       "  'teaser': \"NASA's Mars Helicopter flight demonstration project has passed a number of key tests with flying colors.\"},\n",
       " {'title': \"InSight's Team Tries New Strategy to Help the 'Mole'\",\n",
       "  'teaser': \"The spacecraft's robotic arm will lift the heat probe's support structure, providing a better look at the instrument that has been trying to burrow into the Martian surface.\"},\n",
       " {'title': \"Common Questions about InSight's 'Mole'\",\n",
       "  'teaser': 'There\\'s a new plan to get InSight\\'s \"mole\" moving again. The following Q&As with two members of the team answer some of the most common questions about the burrowing device, part of a science instrument called the Heat Flow and Physical Properties Package (HP3).'}]"
      ]
     },
     "execution_count": 119,
     "metadata": {},
     "output_type": "execute_result"
    }
   ],
   "source": [
    "get_news(news_url)"
   ]
  },
  {
   "cell_type": "code",
   "execution_count": 84,
   "metadata": {},
   "outputs": [],
   "source": [
    "image_soup = scrape_url(mars_image_url)"
   ]
  },
  {
   "cell_type": "code",
   "execution_count": 116,
   "metadata": {},
   "outputs": [],
   "source": [
    "\n",
    "def mars_image(mars_image_url):\n",
    "    # grap the soup\n",
    "    image_soup = scrape_url(mars_image_url)\n",
    "    \n",
    "    #get the image path\n",
    "    image_path = image_soup.find_all('a', class_='button fancybox')[0]['data-fancybox-href']\n",
    "    full_image_path = f'https://www.jpl.nasa.gov{image_path}'\n",
    "    return full_image_path\n",
    "\n"
   ]
  },
  {
   "cell_type": "code",
   "execution_count": 117,
   "metadata": {},
   "outputs": [
    {
     "data": {
      "text/plain": [
       "'https://www.jpl.nasa.gov/spaceimages/images/mediumsize/PIA17172_ip.jpg'"
      ]
     },
     "execution_count": 117,
     "metadata": {},
     "output_type": "execute_result"
    }
   ],
   "source": [
    "mars_image(mars_image_url)"
   ]
  },
  {
   "cell_type": "code",
   "execution_count": 130,
   "metadata": {},
   "outputs": [],
   "source": [
    "\n",
    "def get_weather(url):\n",
    "\n",
    "    soup = scrape_url(url)\n",
    "    \n",
    "    weather_full = soup.find_all('p', class_=\"TweetTextSize TweetTextSize--normal js-tweet-text tweet-text\")[0].text\n",
    "    weather = weather_full.split('pic.twitter')[0].replace('\\n',\"\")\n",
    "    return weather"
   ]
  },
  {
   "cell_type": "code",
   "execution_count": 131,
   "metadata": {},
   "outputs": [
    {
     "data": {
      "text/plain": [
       "'InSight sol 310 (2019-10-10) low -102.2ºC (-152.0ºF) high -26.6ºC (-15.8ºF)winds from the SSE at 5.0 m/s (11.2 mph) gusting to 19.1 m/s (42.8 mph)pressure at 7.20 hPa'"
      ]
     },
     "execution_count": 131,
     "metadata": {},
     "output_type": "execute_result"
    }
   ],
   "source": [
    "get_weather(mars_weather_url)"
   ]
  },
  {
   "cell_type": "code",
   "execution_count": 126,
   "metadata": {},
   "outputs": [
    {
     "name": "stdout",
     "output_type": "stream",
     "text": [
      "InSight sol 310 (2019-10-10) low -102.2ºC (-152.0ºF) high -26.6ºC (-15.8ºF)\n",
      "winds from the SSE at 5.0 m/s (11.2 mph) gusting to 19.1 m/s (42.8 mph)\n",
      "pressure at 7.20 hPa\n"
     ]
    }
   ],
   "source": [
    "print(weather.split('pic.twitter')[0])"
   ]
  },
  {
   "cell_type": "code",
   "execution_count": 121,
   "metadata": {},
   "outputs": [
    {
     "data": {
      "text/plain": [
       "'https://twitter.com/marswxreport?lang=en'"
      ]
     },
     "execution_count": 121,
     "metadata": {},
     "output_type": "execute_result"
    }
   ],
   "source": [
    "mars_weather_url"
   ]
  },
  {
   "cell_type": "code",
   "execution_count": null,
   "metadata": {},
   "outputs": [],
   "source": [
    "news_html = news_browser.html"
   ]
  },
  {
   "cell_type": "code",
   "execution_count": 11,
   "metadata": {},
   "outputs": [],
   "source": [
    "image_browser = Browser('chrome', **executable_path, headless=False)\n",
    "image_browser.visit(mars_image_url)"
   ]
  },
  {
   "cell_type": "code",
   "execution_count": null,
   "metadata": {},
   "outputs": [],
   "source": [
    "html = browser.html\n",
    "soup = BeautifulSoup(html, 'html.parser')"
   ]
  }
 ],
 "metadata": {
  "kernelspec": {
   "display_name": "Python 3",
   "language": "python",
   "name": "python3"
  },
  "language_info": {
   "codemirror_mode": {
    "name": "ipython",
    "version": 3
   },
   "file_extension": ".py",
   "mimetype": "text/x-python",
   "name": "python",
   "nbconvert_exporter": "python",
   "pygments_lexer": "ipython3",
   "version": "3.7.3"
  }
 },
 "nbformat": 4,
 "nbformat_minor": 2
}
