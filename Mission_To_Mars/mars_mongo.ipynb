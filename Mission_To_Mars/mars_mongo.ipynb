{
 "cells": [
  {
   "cell_type": "code",
   "execution_count": 2,
   "metadata": {},
   "outputs": [
    {
     "data": {
      "text/plain": [
       "'191012221648'"
      ]
     },
     "execution_count": 2,
     "metadata": {},
     "output_type": "execute_result"
    }
   ],
   "source": [
    "import mars_scrape as ms\n",
    "import flask as fl\n",
    "import pymongo\n",
    "from IPython.display import Image\n",
    "import time as t\n",
    "timestamp = t.strftime(\"%y%m%d%H%M%S\", t.gmtime())\n",
    "timestamp"
   ]
  },
  {
   "cell_type": "code",
   "execution_count": 6,
   "metadata": {},
   "outputs": [],
   "source": [
    "\n",
    "def insert_news(list):\n",
    "    # setup mongo connection\n",
    "    conn = \"mongodb://localhost:27017\"\n",
    "    client = pymongo.MongoClient(conn)\n",
    "\n",
    "    # connect to mongo db and collection\n",
    "    db = client.mission_to_mars\n",
    "    collection = db.mars_news\n",
    "\n",
    "    # insert news\n",
    "    try:\n",
    "        collection.drop()\n",
    "        collection.insert_many(list)\n",
    "    except:\n",
    "        collection.insert_many(list)\n",
    "    \n",
    "    return print('News Inserted.')"
   ]
  },
  {
   "cell_type": "code",
   "execution_count": 7,
   "metadata": {},
   "outputs": [],
   "source": [
    "def insert_hemi(list):\n",
    "    # setup mongo connection\n",
    "    conn = \"mongodb://localhost:27017\"\n",
    "    client = pymongo.MongoClient(conn)\n",
    "\n",
    "    # connect to mongo db and collection\n",
    "    db = client.mission_to_mars\n",
    "    collection = db.hemi\n",
    "\n",
    "    # insert hemi info\n",
    "    try:\n",
    "        collection.drop()\n",
    "        collection.insert_many(list)\n",
    "    except:\n",
    "        collection.insert_many(list)\n",
    "    \n",
    "    return print('Hemisphere Info Inserted.')"
   ]
  },
  {
   "cell_type": "code",
   "execution_count": 9,
   "metadata": {},
   "outputs": [
    {
     "name": "stdout",
     "output_type": "stream",
     "text": [
      "News Inserted.\n"
     ]
    }
   ],
   "source": [
    "news = ms.get_news(ms.news_url)\n",
    "insert_news(news)"
   ]
  },
  {
   "cell_type": "code",
   "execution_count": 12,
   "metadata": {},
   "outputs": [
    {
     "name": "stdout",
     "output_type": "stream",
     "text": [
      "Hemisphere Info Inserted.\n"
     ]
    }
   ],
   "source": [
    "hemi = ms.get_hemi(ms.hemi_url)\n",
    "insert_hemi(hemi)"
   ]
  },
  {
   "cell_type": "code",
   "execution_count": 21,
   "metadata": {},
   "outputs": [
    {
     "data": {
      "text/html": [
       "<img src=\"https://www.jpl.nasa.gov/spaceimages/images/mediumsize/PIA19323_ip.jpg\" width=\"300\"/>"
      ],
      "text/plain": [
       "<IPython.core.display.Image object>"
      ]
     },
     "execution_count": 21,
     "metadata": {},
     "output_type": "execute_result"
    }
   ],
   "source": [
    "mars_image = ms.get_image(ms.image_url)\n",
    "Image(url=mars_image, width=300)"
   ]
  },
  {
   "cell_type": "code",
   "execution_count": 20,
   "metadata": {},
   "outputs": [
    {
     "data": {
      "text/html": [
       "<img src=\"http://astropedia.astrogeology.usgs.gov/download/Mars/Viking/schiaparelli_enhanced.tif/full.jpg\" width=\"300\"/>"
      ],
      "text/plain": [
       "<IPython.core.display.Image object>"
      ]
     },
     "execution_count": 20,
     "metadata": {},
     "output_type": "execute_result"
    }
   ],
   "source": [
    "Image(url=hemi[0]['hemi_image_ref'], width=300)\n",
    "Image(url=hemi[1]['hemi_image_ref'], width=300)\n"
   ]
  },
  {
   "cell_type": "code",
   "execution_count": 22,
   "metadata": {},
   "outputs": [
    {
     "data": {
      "text/html": [
       "<img src=\"http://astropedia.astrogeology.usgs.gov/download/Mars/Viking/syrtis_major_enhanced.tif/full.jpg\" width=\"300\"/>"
      ],
      "text/plain": [
       "<IPython.core.display.Image object>"
      ]
     },
     "execution_count": 22,
     "metadata": {},
     "output_type": "execute_result"
    }
   ],
   "source": [
    "Image(url=hemi[2]['hemi_image_ref'], width=300)"
   ]
  },
  {
   "cell_type": "code",
   "execution_count": 23,
   "metadata": {},
   "outputs": [
    {
     "data": {
      "text/html": [
       "<img src=\"http://astropedia.astrogeology.usgs.gov/download/Mars/Viking/valles_marineris_enhanced.tif/full.jpg\" width=\"300\"/>"
      ],
      "text/plain": [
       "<IPython.core.display.Image object>"
      ]
     },
     "execution_count": 23,
     "metadata": {},
     "output_type": "execute_result"
    }
   ],
   "source": [
    "Image(url=hemi[3]['hemi_image_ref'], width=300)"
   ]
  },
  {
   "cell_type": "code",
   "execution_count": 25,
   "metadata": {},
   "outputs": [
    {
     "data": {
      "text/html": [
       "<img src=\"http://astropedia.astrogeology.usgs.gov/download/Mars/Viking/valles_marineris_enhanced.tif/full.jpg\" width=\"300\"/>"
      ],
      "text/plain": [
       "<IPython.core.display.Image object>"
      ]
     },
     "execution_count": 25,
     "metadata": {},
     "output_type": "execute_result"
    }
   ],
   "source": [
    "Image(url=hemi[3]['hemi_image_ref'], width=300)"
   ]
  },
  {
   "cell_type": "code",
   "execution_count": null,
   "metadata": {},
   "outputs": [],
   "source": []
  }
 ],
 "metadata": {
  "kernelspec": {
   "display_name": "Python 3",
   "language": "python",
   "name": "python3"
  },
  "language_info": {
   "codemirror_mode": {
    "name": "ipython",
    "version": 3
   },
   "file_extension": ".py",
   "mimetype": "text/x-python",
   "name": "python",
   "nbconvert_exporter": "python",
   "pygments_lexer": "ipython3",
   "version": "3.7.3"
  }
 },
 "nbformat": 4,
 "nbformat_minor": 2
}
