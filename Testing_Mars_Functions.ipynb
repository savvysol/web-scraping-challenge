{
 "cells": [
  {
   "cell_type": "code",
   "execution_count": 1,
   "metadata": {},
   "outputs": [
    {
     "name": "stdout",
     "output_type": "stream",
     "text": [
      "You imported Mike's Mars Functions.  Let's Blast Off!\n"
     ]
    },
    {
     "data": {
      "text/html": [
       "<img src=\"https://idb-fac2.mgxcdn.ru/2017/02/26/cover/a1e2e1941ad06ac46dd6160c273335f0-tom-and-jerry-blast-off-to-mars.jpg\"/>"
      ],
      "text/plain": [
       "<IPython.core.display.Image object>"
      ]
     },
     "execution_count": 1,
     "metadata": {},
     "output_type": "execute_result"
    }
   ],
   "source": [
    "import mars_functions as M\n",
    "M.Image(url=M.blast_off_image)"
   ]
  },
  {
   "cell_type": "code",
   "execution_count": 2,
   "metadata": {},
   "outputs": [
    {
     "name": "stdout",
     "output_type": "stream",
     "text": [
      "\n",
      "    \n",
      "    -------------------------------------------------\n",
      "                     Getting News\n",
      "    -------------------------------------------------\n",
      "Getting News from https://mars.nasa.gov/news\n",
      "Gonna launch a browser to get info.  In 3... 2... 1...\n",
      "...looping through slides to get title & teaser.\n",
      "All set!  You got the news as a list of 40 dictionaries.\n",
      " \n",
      "        \n",
      "        Mango, Mongo...DONE!\n",
      "        DB: mission_to_mars | Collection: news\n",
      "        ------------------------------------------------\n",
      "        return: collection string to find, query, etc.\n",
      "       \n",
      "    \n",
      "\n",
      "    \n",
      "    -------------------------------------------------\n",
      "                     Getting Images\n",
      "    -------------------------------------------------\n",
      "Getting Image from https://www.jpl.nasa.gov/spaceimages/?search=&category=Mars\n",
      "Gonna launch a browser to get info.  In 3... 2... 1...\n",
      "openning the url to grab the image.\n",
      "\n",
      "    \n",
      "    -------------------------------------------------\n",
      "                     Getting Weather\n",
      "    -------------------------------------------------\n",
      "Getting Weather from https://twitter.com/marswxreport?lang=en\n",
      "Gonna launch a browser to get info.  In 3... 2... 1...\n",
      "\n",
      "    \n",
      "    -------------------------------------------------\n",
      "                     Getting Facts\n",
      "    -------------------------------------------------\n",
      "Getting Facts from https://space-facts.com/mars/\n",
      "Getting the tables...\n",
      "Easy.  As.  Py.\n",
      "\n",
      "    \n",
      "    -------------------------------------------------\n",
      "                 Getting Hemisphere Info\n",
      "    -------------------------------------------------\n",
      "Getting links from https://astrogeology.usgs.gov/search/results?q=hemisphere+enhanced&k1=target&v1=Mars\n",
      "Gonna launch a browser to get info.  In 3... 2... 1...\n",
      "Got the links!  Let's grab the images!\n",
      "Getting images from https://astrogeology.usgs.gov/search/map/Mars/Viking/cerberus_enhanced\n",
      "Gonna launch a browser to get info.  In 3... 2... 1...\n",
      "Getting images from https://astrogeology.usgs.gov/search/map/Mars/Viking/schiaparelli_enhanced\n",
      "Gonna launch a browser to get info.  In 3... 2... 1...\n",
      "Getting images from https://astrogeology.usgs.gov/search/map/Mars/Viking/syrtis_major_enhanced\n",
      "Gonna launch a browser to get info.  In 3... 2... 1...\n",
      "Getting images from https://astrogeology.usgs.gov/search/map/Mars/Viking/valles_marineris_enhanced\n",
      "Gonna launch a browser to get info.  In 3... 2... 1...\n",
      "This collection has 12 documents.  Passing back the last one...(without the '_id')\n",
      "This collection has 12 documents.  Passing back the last one...(without the '_id')\n",
      "This collection has 14 documents.  Passing back the last one...(without the '_id')\n",
      "\n",
      "    \n",
      "    -------------------------------------------------\n",
      "    New Mars Record Scraped and Posted on Oct-15-2019\n",
      "    -------------------------------------------------\n",
      "       Your Collection has 4 Document(s)\n",
      "    -------------------------------------------------\n",
      "    \n",
      "    \n"
     ]
    }
   ],
   "source": [
    "mars = M.scrape_mars()"
   ]
  },
  {
   "cell_type": "code",
   "execution_count": 3,
   "metadata": {},
   "outputs": [
    {
     "name": "stdout",
     "output_type": "stream",
     "text": [
      "This collection has 4 documents.  Passing back the last one...(without the '_id')\n"
     ]
    },
    {
     "data": {
      "text/plain": [
       "{'timestamp': '19101519001571191215',\n",
       " 'date': 'Oct-15-2019',\n",
       " 'featured': 'https://www.jpl.nasa.gov/spaceimages/images/mediumsize/PIA23170_ip.jpg',\n",
       " 'caption': 'NASAs Cassini spacecraft shows false-color spectral mapping images of Saturns A, B and C rings.',\n",
       " 'news_headline': \"NASA's Curiosity Rover Finds an Ancient Oasis on Mars\",\n",
       " 'news_body': \"New evidence suggests salty, shallow ponds once dotted a Martian crater — a sign of the planet's drying climate.\",\n",
       " 'weather': 'InSight sol 313 (2019-10-14) low -101.4ºC (-150.6ºF) high -27.2ºC (-16.9ºF)winds from the SSE at 5.5 m/s (12.4 mph) gusting to 22.5 m/s (50.3 mph)pressure at 7.20 hPa',\n",
       " 'facts': '<table border=\"1\" class=\"dataframe\">\\n  <thead>\\n    <tr style=\"text-align: right;\">\\n      <th></th>\\n      <th>Mars - Earth Comparison</th>\\n      <th>Mars</th>\\n      <th>Earth</th>\\n    </tr>\\n  </thead>\\n  <tbody>\\n    <tr>\\n      <th>0</th>\\n      <td>Diameter:</td>\\n      <td>6,779 km</td>\\n      <td>12,742 km</td>\\n    </tr>\\n    <tr>\\n      <th>1</th>\\n      <td>Mass:</td>\\n      <td>6.39 × 10^23 kg</td>\\n      <td>5.97 × 10^24 kg</td>\\n    </tr>\\n    <tr>\\n      <th>2</th>\\n      <td>Moons:</td>\\n      <td>2</td>\\n      <td>1</td>\\n    </tr>\\n    <tr>\\n      <th>3</th>\\n      <td>Distance from Sun:</td>\\n      <td>227,943,824 km</td>\\n      <td>149,598,262 km</td>\\n    </tr>\\n    <tr>\\n      <th>4</th>\\n      <td>Length of Year:</td>\\n      <td>687 Earth days</td>\\n      <td>365.24 days</td>\\n    </tr>\\n    <tr>\\n      <th>5</th>\\n      <td>Temperature:</td>\\n      <td>-153 to 20 °C</td>\\n      <td>-88 to 58°C</td>\\n    </tr>\\n  </tbody>\\n</table>',\n",
       " 'hemi_1': 'http://astropedia.astrogeology.usgs.gov/download/Mars/Viking/cerberus_enhanced.tif/full.jpg',\n",
       " 'hemi_2': 'http://astropedia.astrogeology.usgs.gov/download/Mars/Viking/schiaparelli_enhanced.tif/full.jpg',\n",
       " 'hemi_3': 'http://astropedia.astrogeology.usgs.gov/download/Mars/Viking/syrtis_major_enhanced.tif/full.jpg',\n",
       " 'hemi_4': 'http://astropedia.astrogeology.usgs.gov/download/Mars/Viking/valles_marineris_enhanced.tif/full.jpg'}"
      ]
     },
     "execution_count": 3,
     "metadata": {},
     "output_type": "execute_result"
    }
   ],
   "source": [
    "M.last_doc(mars)"
   ]
  },
  {
   "cell_type": "code",
   "execution_count": 6,
   "metadata": {},
   "outputs": [
    {
     "data": {
      "text/plain": [
       "('19101519001571191256', 'Oct-15-2019')"
      ]
     },
     "execution_count": 6,
     "metadata": {},
     "output_type": "execute_result"
    }
   ],
   "source": [
    "M.ts()"
   ]
  },
  {
   "cell_type": "code",
   "execution_count": null,
   "metadata": {},
   "outputs": [],
   "source": [
    "M.scrape_mars()"
   ]
  },
  {
   "cell_type": "code",
   "execution_count": 8,
   "metadata": {},
   "outputs": [
    {
     "name": "stdout",
     "output_type": "stream",
     "text": [
      "This collection has 0 documents.  Passing back the last one...(without the '_id')\n"
     ]
    },
    {
     "ename": "IndexError",
     "evalue": "Cursor instances do not support negative indices",
     "output_type": "error",
     "traceback": [
      "\u001b[0;31m---------------------------------------------------------------------------\u001b[0m",
      "\u001b[0;31mIndexError\u001b[0m                                Traceback (most recent call last)",
      "\u001b[0;32m<ipython-input-8-019fee6e3e31>\u001b[0m in \u001b[0;36m<module>\u001b[0;34m\u001b[0m\n\u001b[0;32m----> 1\u001b[0;31m \u001b[0mM\u001b[0m\u001b[0;34m.\u001b[0m\u001b[0mshow_mars\u001b[0m\u001b[0;34m(\u001b[0m\u001b[0;34m)\u001b[0m\u001b[0;34m\u001b[0m\u001b[0;34m\u001b[0m\u001b[0m\n\u001b[0m",
      "\u001b[0;32m~/Dropbox/Git_Savvy/homework/12-Web-Scraping-and-Document-Databases/web-scraping-challenge/mars_functions.py\u001b[0m in \u001b[0;36mshow_mars\u001b[0;34m()\u001b[0m\n\u001b[1;32m    218\u001b[0m \u001b[0;32mdef\u001b[0m \u001b[0mshow_mars\u001b[0m\u001b[0;34m(\u001b[0m\u001b[0;34m)\u001b[0m\u001b[0;34m:\u001b[0m\u001b[0;34m\u001b[0m\u001b[0;34m\u001b[0m\u001b[0m\n\u001b[1;32m    219\u001b[0m     \u001b[0mcollection\u001b[0m \u001b[0;34m=\u001b[0m \u001b[0mmongo_me\u001b[0m\u001b[0;34m(\u001b[0m\u001b[0;34m'mission_to_mars'\u001b[0m\u001b[0;34m,\u001b[0m\u001b[0;34m'mars_images'\u001b[0m\u001b[0;34m)\u001b[0m\u001b[0;34m\u001b[0m\u001b[0;34m\u001b[0m\u001b[0m\n\u001b[0;32m--> 220\u001b[0;31m     \u001b[0mdoc\u001b[0m \u001b[0;34m=\u001b[0m \u001b[0mlast_doc\u001b[0m\u001b[0;34m(\u001b[0m\u001b[0mcollection\u001b[0m\u001b[0;34m)\u001b[0m\u001b[0;34m\u001b[0m\u001b[0;34m\u001b[0m\u001b[0m\n\u001b[0m\u001b[1;32m    221\u001b[0m     \u001b[0mimage\u001b[0m \u001b[0;34m=\u001b[0m \u001b[0mdoc\u001b[0m\u001b[0;34m[\u001b[0m\u001b[0;34m'image'\u001b[0m\u001b[0;34m]\u001b[0m\u001b[0;34m\u001b[0m\u001b[0;34m\u001b[0m\u001b[0m\n\u001b[1;32m    222\u001b[0m     \u001b[0mtext\u001b[0m \u001b[0;34m=\u001b[0m \u001b[0mdoc\u001b[0m\u001b[0;34m[\u001b[0m\u001b[0;34m'image_desc'\u001b[0m\u001b[0;34m]\u001b[0m\u001b[0;34m\u001b[0m\u001b[0;34m\u001b[0m\u001b[0m\n",
      "\u001b[0;32m~/Dropbox/Git_Savvy/homework/12-Web-Scraping-and-Document-Databases/web-scraping-challenge/mars_functions.py\u001b[0m in \u001b[0;36mlast_doc\u001b[0;34m(collection)\u001b[0m\n\u001b[1;32m    124\u001b[0m     \u001b[0mlast\u001b[0m \u001b[0;34m=\u001b[0m \u001b[0mcollection\u001b[0m\u001b[0;34m.\u001b[0m\u001b[0mestimated_document_count\u001b[0m\u001b[0;34m(\u001b[0m\u001b[0;34m)\u001b[0m\u001b[0;34m-\u001b[0m\u001b[0;36m1\u001b[0m\u001b[0;34m\u001b[0m\u001b[0;34m\u001b[0m\u001b[0m\n\u001b[1;32m    125\u001b[0m     \u001b[0mprint\u001b[0m\u001b[0;34m(\u001b[0m\u001b[0;34mf\"This collection has {last+1} documents.  Passing back the last one...(without the '_id')\"\u001b[0m\u001b[0;34m)\u001b[0m\u001b[0;34m\u001b[0m\u001b[0;34m\u001b[0m\u001b[0m\n\u001b[0;32m--> 126\u001b[0;31m     \u001b[0;32mreturn\u001b[0m \u001b[0mcollection\u001b[0m\u001b[0;34m.\u001b[0m\u001b[0mfind\u001b[0m\u001b[0;34m(\u001b[0m\u001b[0;34m{\u001b[0m\u001b[0;34m}\u001b[0m\u001b[0;34m,\u001b[0m\u001b[0;34m{\u001b[0m\u001b[0;34m'_id'\u001b[0m\u001b[0;34m:\u001b[0m\u001b[0;36m0\u001b[0m\u001b[0;34m}\u001b[0m\u001b[0;34m)\u001b[0m\u001b[0;34m[\u001b[0m\u001b[0mlast\u001b[0m\u001b[0;34m]\u001b[0m\u001b[0;34m\u001b[0m\u001b[0;34m\u001b[0m\u001b[0m\n\u001b[0m\u001b[1;32m    127\u001b[0m \u001b[0;34m\u001b[0m\u001b[0m\n\u001b[1;32m    128\u001b[0m \u001b[0;32mdef\u001b[0m \u001b[0mdrop\u001b[0m\u001b[0;34m(\u001b[0m\u001b[0mdb_name\u001b[0m\u001b[0;34m)\u001b[0m\u001b[0;34m:\u001b[0m\u001b[0;34m\u001b[0m\u001b[0;34m\u001b[0m\u001b[0m\n",
      "\u001b[0;32m//anaconda3/lib/python3.7/site-packages/pymongo/cursor.py\u001b[0m in \u001b[0;36m__getitem__\u001b[0;34m(self, index)\u001b[0m\n\u001b[1;32m    606\u001b[0m         \u001b[0;32mif\u001b[0m \u001b[0misinstance\u001b[0m\u001b[0;34m(\u001b[0m\u001b[0mindex\u001b[0m\u001b[0;34m,\u001b[0m \u001b[0minteger_types\u001b[0m\u001b[0;34m)\u001b[0m\u001b[0;34m:\u001b[0m\u001b[0;34m\u001b[0m\u001b[0;34m\u001b[0m\u001b[0m\n\u001b[1;32m    607\u001b[0m             \u001b[0;32mif\u001b[0m \u001b[0mindex\u001b[0m \u001b[0;34m<\u001b[0m \u001b[0;36m0\u001b[0m\u001b[0;34m:\u001b[0m\u001b[0;34m\u001b[0m\u001b[0;34m\u001b[0m\u001b[0m\n\u001b[0;32m--> 608\u001b[0;31m                 raise IndexError(\"Cursor instances do not support negative \"\n\u001b[0m\u001b[1;32m    609\u001b[0m                                  \"indices\")\n\u001b[1;32m    610\u001b[0m             \u001b[0mclone\u001b[0m \u001b[0;34m=\u001b[0m \u001b[0mself\u001b[0m\u001b[0;34m.\u001b[0m\u001b[0mclone\u001b[0m\u001b[0;34m(\u001b[0m\u001b[0;34m)\u001b[0m\u001b[0;34m\u001b[0m\u001b[0;34m\u001b[0m\u001b[0m\n",
      "\u001b[0;31mIndexError\u001b[0m: Cursor instances do not support negative indices"
     ]
    }
   ],
   "source": [
    "M.show_mars()"
   ]
  },
  {
   "cell_type": "code",
   "execution_count": null,
   "metadata": {},
   "outputs": [],
   "source": []
  }
 ],
 "metadata": {
  "kernelspec": {
   "display_name": "Python 3",
   "language": "python",
   "name": "python3"
  },
  "language_info": {
   "codemirror_mode": {
    "name": "ipython",
    "version": 3
   },
   "file_extension": ".py",
   "mimetype": "text/x-python",
   "name": "python",
   "nbconvert_exporter": "python",
   "pygments_lexer": "ipython3",
   "version": "3.7.3"
  }
 },
 "nbformat": 4,
 "nbformat_minor": 2
}
